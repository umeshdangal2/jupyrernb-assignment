{
 "cells": [
  {
   "cell_type": "markdown",
   "id": "be4b6c22-b1d3-43e8-b6b9-67e398241bb5",
   "metadata": {},
   "source": [
    "# Data Science Tools and Ecosystem"
   ]
  },
  {
   "cell_type": "markdown",
   "id": "34d7c91a-8465-4be7-81b3-38b271860568",
   "metadata": {},
   "source": [
    "In this notebook, we are going ti summarize Data Science Tools and Ecosystem"
   ]
  },
  {
   "cell_type": "markdown",
   "id": "567d3a8c-16bf-4949-bd5b-1bffe8049f9b",
   "metadata": {},
   "source": [
    "Objectives:\n",
    "1. To gain knowledge basics in jupyter nootbook\n",
    "2. To Revise the learning of \n",
    "3. To Learn about tools used in Data science\n",
    "\n",
    "Items covered in this nootbook:\n",
    "* List of popular languages for data science\n",
    "* List of libraries used in data science\n",
    "* List of data science tools\n",
    "   "
   ]
  },
  {
   "cell_type": "markdown",
   "id": "d3f43bdc-d3d2-43ec-b557-44731dd7228d",
   "metadata": {},
   "source": [
    "some of the popular languages that Data Scientists use are:\n",
    "1. python\n",
    "2. R\n",
    "3. Julia\n",
    "4. Scala\n"
   ]
  },
  {
   "cell_type": "markdown",
   "id": "507ed5bb-3073-4351-93b6-8700503c2058",
   "metadata": {},
   "source": [
    "Some of the commonly used libraries used by Data Scientists include:\n",
    "1. Pandas\n",
    "2. matplotlib\n",
    "3. scikit_learn\n",
    "4. tensorflow"
   ]
  },
  {
   "cell_type": "markdown",
   "id": "f5780b41-d196-427e-b546-7d9d4950d0ba",
   "metadata": {},
   "source": [
    "| Data Science Tools |\n",
    "| ------------------ |\n",
    "| Jupyter Notebook |\n",
    "| Google Colab |\n",
    "| Rstudio |"
   ]
  },
  {
   "cell_type": "markdown",
   "id": "dbe827e2-43ea-4286-ab8e-9e830963adea",
   "metadata": {},
   "source": [
    "### Below are few examples of evaluating arithmetic expression in Python."
   ]
  },
  {
   "cell_type": "code",
   "execution_count": 1,
   "id": "9f59bb81-e82d-4ba3-bf06-baf7aad98516",
   "metadata": {},
   "outputs": [
    {
     "data": {
      "text/plain": [
       "17"
      ]
     },
     "execution_count": 1,
     "metadata": {},
     "output_type": "execute_result"
    }
   ],
   "source": [
    "# this is a simple arithmetic expression to multiply then add integer\n",
    "(3*4)+5"
   ]
  },
  {
   "cell_type": "code",
   "execution_count": 4,
   "id": "3b79c2e4-dd3a-4a86-874d-17355bcfd127",
   "metadata": {},
   "outputs": [
    {
     "name": "stdout",
     "output_type": "stream",
     "text": [
      "there is 3.3333333333333335 hours in 200 minutes \n"
     ]
    }
   ],
   "source": [
    "# This will convert 200 minutes to hours by dividing by 60\n",
    "minutes = 200\n",
    "hours = minutes/60\n",
    "print(f\"there is {hours} hours in {minutes} minutes \")"
   ]
  },
  {
   "cell_type": "markdown",
   "id": "029f8df2-8550-40ef-82ba-1b49d9caf4cd",
   "metadata": {},
   "source": [
    "## Author\n",
    "Umesh Dangal"
   ]
  },
  {
   "cell_type": "code",
   "execution_count": null,
   "id": "f61a00e6-95bf-4d01-8d12-1c4d0e260506",
   "metadata": {},
   "outputs": [],
   "source": []
  }
 ],
 "metadata": {
  "kernelspec": {
   "display_name": "Python [conda env:base] *",
   "language": "python",
   "name": "conda-base-py"
  },
  "language_info": {
   "codemirror_mode": {
    "name": "ipython",
    "version": 3
   },
   "file_extension": ".py",
   "mimetype": "text/x-python",
   "name": "python",
   "nbconvert_exporter": "python",
   "pygments_lexer": "ipython3",
   "version": "3.13.5"
  }
 },
 "nbformat": 4,
 "nbformat_minor": 5
}
